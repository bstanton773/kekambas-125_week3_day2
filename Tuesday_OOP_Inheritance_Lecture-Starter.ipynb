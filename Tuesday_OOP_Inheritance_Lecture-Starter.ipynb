{
 "cells": [
  {
   "cell_type": "markdown",
   "metadata": {},
   "source": [
    "# Object-Oriented-Programming (OOP)"
   ]
  },
  {
   "cell_type": "markdown",
   "metadata": {},
   "source": [
    "## Tasks Today:\n",
    "\n",
    "   \n",
    "1) <b>Dunder Methods</b> <br>\n",
    " &nbsp;&nbsp;&nbsp;&nbsp; a) The \\__str\\__() Method <br>\n",
    " &nbsp;&nbsp;&nbsp;&nbsp; b) The \\__repr\\__() Method <br>\n",
    " &nbsp;&nbsp;&nbsp;&nbsp; c) Other Magic Methods <br>\n",
    " &nbsp;&nbsp;&nbsp;&nbsp; d) In-Class Exercise #1 - Create a class Animal that displays the species and animal name when printed <br>  \n",
    "2) <b>Inheritance</b> <br>\n",
    " &nbsp;&nbsp;&nbsp;&nbsp; a) Syntax for Inheriting from a Parent Class <br>\n",
    " &nbsp;&nbsp;&nbsp;&nbsp; b) The \\__init\\__() Method for a Child Class (super()) <br>\n",
    " &nbsp;&nbsp;&nbsp;&nbsp; c) Defining Attributes and Methods for the Child Class <br>\n",
    " &nbsp;&nbsp;&nbsp;&nbsp; d) Method Overriding <br>\n",
    " &nbsp;&nbsp;&nbsp;&nbsp; e) In-Class Exercise #2 - Create a class 'Ford' that inherits from 'Car' class and initialize it as a Blue Ford Explorer with 4 wheels using the super() method <br>\n",
    "3) <b>Modules</b> <br>\n",
    " &nbsp;&nbsp;&nbsp;&nbsp; a) Importing Modules<br>\n",
    " &nbsp;&nbsp;&nbsp;&nbsp; b) Importing from modules <br>\n",
    " &nbsp;&nbsp;&nbsp;&nbsp; c) Aliasing <br>\n",
    " &nbsp;&nbsp;&nbsp;&nbsp; d) Creating Modules <br>\n"
   ]
  },
  {
   "cell_type": "markdown",
   "metadata": {},
   "source": [
    "### Warm Up"
   ]
  },
  {
   "cell_type": "markdown",
   "metadata": {},
   "source": [
    "Create a class for a Book that has instance attributes for `title`, `author`, `num_of_pages`, and `price`. Each book instance should also have a `current_page` attribute that starts at 0. Add a method called `read` that takes in number of pages. The method should update what the current page is. If the `current_page` goes over the `num_of_pages`, print that the book is finished and reset the `current_page` to 0"
   ]
  },
  {
   "cell_type": "code",
   "execution_count": 16,
   "metadata": {},
   "outputs": [],
   "source": [
    "class Book:\n",
    "    def __init__(self, title, author, num_of_pages, price):\n",
    "        self.title = title\n",
    "        self.author = author\n",
    "        self.num_of_pages = num_of_pages\n",
    "        self.price = price\n",
    "        self.current_page = 0\n",
    "        print(f\"Congrats on purchasing {title} by {author} for ${price:.2f}\")\n",
    "        \n",
    "    def read(self, num_pages):\n",
    "        self.current_page += num_pages\n",
    "        if self.current_page >= self.num_of_pages:\n",
    "            print(f\"Congrats on finishing {self.title}\")\n",
    "            self.current_page = 0\n",
    "        else:\n",
    "            print(f\"You are currently on page {self.current_page} of {self.title}. There are {self.num_of_pages - self.current_page} pages left\")"
   ]
  },
  {
   "cell_type": "code",
   "execution_count": 17,
   "metadata": {
    "scrolled": true
   },
   "outputs": [
    {
     "name": "stdout",
     "output_type": "stream",
     "text": [
      "Congrats on purchasing The Midnight Library by Matt Haig for $26.00\n",
      "Congrats on purchasing Range by David Epstein for $15.59\n",
      "You are currently on page 45 of The Midnight Library. There are 243 pages left\n",
      "You are currently on page 104 of The Midnight Library. There are 184 pages left\n",
      "You are currently on page 45 of Range. There are 246 pages left\n",
      "You are currently on page 146 of The Midnight Library. There are 142 pages left\n",
      "You are currently on page 230 of The Midnight Library. There are 58 pages left\n",
      "You are currently on page 104 of Range. There are 187 pages left\n",
      "Congrats on finishing The Midnight Library\n",
      "You are currently on page 189 of Range. There are 102 pages left\n",
      "Congrats on finishing Range\n"
     ]
    }
   ],
   "source": [
    "book = Book(\"The Midnight Library\", \"Matt Haig\", 288, 26)\n",
    "book2 = Book('Range', 'David Epstein', 291, 15.59)\n",
    "book.read(45)\n",
    "book.read(59)\n",
    "book2.read(45)\n",
    "book.read(42)\n",
    "book.read(84)\n",
    "book2.read(59)\n",
    "book.read(62)\n",
    "book2.read(85)\n",
    "book2.read(120)"
   ]
  },
  {
   "cell_type": "code",
   "execution_count": 18,
   "metadata": {
    "scrolled": true
   },
   "outputs": [
    {
     "data": {
      "text/plain": [
       "0"
      ]
     },
     "execution_count": 18,
     "metadata": {},
     "output_type": "execute_result"
    }
   ],
   "source": [
    "book.current_page"
   ]
  },
  {
   "cell_type": "code",
   "execution_count": 20,
   "metadata": {},
   "outputs": [
    {
     "name": "stdout",
     "output_type": "stream",
     "text": [
      "<__main__.Book object at 0x00000137DB5BC910>\n"
     ]
    },
    {
     "data": {
      "text/plain": [
       "<__main__.Book at 0x137db5bc910>"
      ]
     },
     "execution_count": 20,
     "metadata": {},
     "output_type": "execute_result"
    }
   ],
   "source": [
    "print(book)\n",
    "book"
   ]
  },
  {
   "cell_type": "code",
   "execution_count": 21,
   "metadata": {},
   "outputs": [
    {
     "name": "stdout",
     "output_type": "stream",
     "text": [
      "<__main__.Book object at 0x00000137DB5BC910>\n",
      "<__main__.Book object at 0x00000137DB067F70>\n"
     ]
    }
   ],
   "source": [
    "books = [book, book2]\n",
    "\n",
    "for b in books:\n",
    "    print(b)"
   ]
  },
  {
   "cell_type": "markdown",
   "metadata": {},
   "source": [
    "## Dunder Methods"
   ]
  },
  {
   "cell_type": "markdown",
   "metadata": {},
   "source": [
    "#### \\__str\\__()"
   ]
  },
  {
   "cell_type": "code",
   "execution_count": 11,
   "metadata": {},
   "outputs": [
    {
     "name": "stdout",
     "output_type": "stream",
     "text": [
      "Brian Stanton\n"
     ]
    }
   ],
   "source": [
    "class Person:\n",
    "    def __init__(self, first, last):\n",
    "        self.first = first.title()\n",
    "        self.last = last.title()\n",
    "        \n",
    "    def __str__(self):\n",
    "        return f\"{self.first} {self.last}\"\n",
    "        \n",
    "    \n",
    "p = Person('brian', 'stanton')\n",
    "print(p)"
   ]
  },
  {
   "cell_type": "code",
   "execution_count": 28,
   "metadata": {},
   "outputs": [
    {
     "name": "stdout",
     "output_type": "stream",
     "text": [
      "Congrats on purchasing Harry Potter by JK Rowling for $13.99\n",
      "Congrats on purchasing Lord of the Rings by JRR Tolkein for $19.99\n"
     ]
    }
   ],
   "source": [
    "class Book:\n",
    "    def __init__(self, title, author, num_of_pages, price):\n",
    "        self.title = title\n",
    "        self.author = author\n",
    "        self.num_of_pages = num_of_pages\n",
    "        self.price = price\n",
    "        self.current_page = 0\n",
    "        print(f\"Congrats on purchasing {title} by {author} for ${price:.2f}\")\n",
    "        \n",
    "    # This is the method that is executed when print is called on instance (or anytime we convert to a string)\n",
    "    def __str__(self):\n",
    "#         print('Hello the print function has been called!')\n",
    "        # Expects to return a string \n",
    "        return f\"{self.title} by {self.author}\"\n",
    "    \n",
    "    \n",
    "    \n",
    "potter = Book('Harry Potter', 'JK Rowling', 450, 13.99)\n",
    "lotr = Book('Lord of the Rings', 'JRR Tolkein', 567, 19.99)"
   ]
  },
  {
   "cell_type": "code",
   "execution_count": 29,
   "metadata": {},
   "outputs": [
    {
     "name": "stdout",
     "output_type": "stream",
     "text": [
      "Harry Potter by JK Rowling\n",
      "Lord of the Rings by JRR Tolkein\n"
     ]
    }
   ],
   "source": [
    "print(potter)\n",
    "print(lotr)"
   ]
  },
  {
   "cell_type": "code",
   "execution_count": 30,
   "metadata": {},
   "outputs": [
    {
     "name": "stdout",
     "output_type": "stream",
     "text": [
      "My favorite book is Harry Potter by JK Rowling\n"
     ]
    }
   ],
   "source": [
    "print(f\"My favorite book is {potter}\")"
   ]
  },
  {
   "cell_type": "code",
   "execution_count": 31,
   "metadata": {},
   "outputs": [
    {
     "data": {
      "text/plain": [
       "'Lord of the Rings by JRR Tolkein'"
      ]
     },
     "execution_count": 31,
     "metadata": {},
     "output_type": "execute_result"
    }
   ],
   "source": [
    "str(lotr)"
   ]
  },
  {
   "cell_type": "markdown",
   "metadata": {},
   "source": [
    "#### \\__repr\\__()"
   ]
  },
  {
   "cell_type": "code",
   "execution_count": 46,
   "metadata": {
    "scrolled": true
   },
   "outputs": [],
   "source": [
    "class Car:\n",
    "    def __init__(self, color, make, model):\n",
    "        self.color = color.title()\n",
    "        self.make = make.title()\n",
    "        self.model = model.title()\n",
    "        \n",
    "    def __str__(self):\n",
    "        return f\"{self.color} {self.make} {self.model}\"\n",
    "    \n",
    "    # Method that will return the machine readable (developer friendly) info\n",
    "    def __repr__(self):\n",
    "        return f\"<Car|{self.make} {self.model}>\"\n",
    "    \n",
    "    def drive(self, num_miles):\n",
    "        print(f\"{self} is driving {num_miles} miles\")\n",
    "        \n",
    "car1 = Car('red', 'toyota', 'camry')\n",
    "car2 = Car('blue', 'honda', 'civic')"
   ]
  },
  {
   "cell_type": "code",
   "execution_count": 47,
   "metadata": {},
   "outputs": [
    {
     "name": "stdout",
     "output_type": "stream",
     "text": [
      "Red Toyota Camry\n",
      "Blue Honda Civic\n"
     ]
    }
   ],
   "source": [
    "print(car1)\n",
    "print(car2)"
   ]
  },
  {
   "cell_type": "code",
   "execution_count": 48,
   "metadata": {},
   "outputs": [
    {
     "name": "stdout",
     "output_type": "stream",
     "text": [
      "Red Toyota Camry is driving 10 miles\n"
     ]
    }
   ],
   "source": [
    "car1.drive(10)"
   ]
  },
  {
   "cell_type": "code",
   "execution_count": 49,
   "metadata": {},
   "outputs": [
    {
     "data": {
      "text/plain": [
       "<Car|Toyota Camry>"
      ]
     },
     "execution_count": 49,
     "metadata": {},
     "output_type": "execute_result"
    }
   ],
   "source": [
    "car1"
   ]
  },
  {
   "cell_type": "code",
   "execution_count": 50,
   "metadata": {},
   "outputs": [
    {
     "data": {
      "text/plain": [
       "<Car|Honda Civic>"
      ]
     },
     "execution_count": 50,
     "metadata": {},
     "output_type": "execute_result"
    }
   ],
   "source": [
    "car2"
   ]
  },
  {
   "cell_type": "code",
   "execution_count": 51,
   "metadata": {},
   "outputs": [
    {
     "name": "stdout",
     "output_type": "stream",
     "text": [
      "[<Car|Toyota Camry>, <Car|Honda Civic>]\n"
     ]
    }
   ],
   "source": [
    "cars = [car1, car2]\n",
    "print(cars)"
   ]
  },
  {
   "cell_type": "code",
   "execution_count": 52,
   "metadata": {},
   "outputs": [
    {
     "name": "stdout",
     "output_type": "stream",
     "text": [
      "Red Toyota Camry\n",
      "Blue Honda Civic\n"
     ]
    }
   ],
   "source": [
    "for car in cars:\n",
    "    print(car)"
   ]
  },
  {
   "cell_type": "code",
   "execution_count": null,
   "metadata": {},
   "outputs": [],
   "source": [
    "# <h1>New Car: {{ car }}</h1>"
   ]
  },
  {
   "cell_type": "code",
   "execution_count": 55,
   "metadata": {},
   "outputs": [
    {
     "name": "stdout",
     "output_type": "stream",
     "text": [
      "[<BlogPost 1|First Post>, <BlogPost 2|Happy Tuesday>]\n"
     ]
    }
   ],
   "source": [
    "class BlogPost:\n",
    "    id_counter = 1\n",
    "    \n",
    "    def __init__(self, title, body, author):\n",
    "        self.title = title\n",
    "        self.body = body\n",
    "        self.author = author\n",
    "        self.id = BlogPost.id_counter\n",
    "        BlogPost.id_counter += 1\n",
    "        \n",
    "    def __str__(self):\n",
    "        return f\"\"\"\n",
    "        {self.title.title()}\n",
    "        By: {self.author.title()}\n",
    "        {self.body}\n",
    "        \"\"\"\n",
    "    \n",
    "    def __repr__(self):\n",
    "        return f\"<BlogPost {self.id}|{self.title}>\"\n",
    "    \n",
    "    \n",
    "post1 = BlogPost(\"First Post\", \"This is my very first post. It is not very good but I will get better.\", \"Brian\")\n",
    "post2 = BlogPost(\"Happy Tuesday\", \"Today is Tuesday. Yesterday was Monday. Tomorrow will Wednesday.\", \"Sarah\")\n",
    "\n",
    "posts = [post1, post2]\n",
    "print(posts)"
   ]
  },
  {
   "cell_type": "code",
   "execution_count": 56,
   "metadata": {},
   "outputs": [
    {
     "name": "stdout",
     "output_type": "stream",
     "text": [
      "\n",
      "        First Post\n",
      "        By: Brian\n",
      "        This is my very first post. It is not very good but I will get better.\n",
      "        \n",
      "\n",
      "        Happy Tuesday\n",
      "        By: Sarah\n",
      "        Today is Tuesday. Yesterday was Monday. Tomorrow will Wednesday.\n",
      "        \n"
     ]
    }
   ],
   "source": [
    "for post in posts:\n",
    "    print(post)"
   ]
  },
  {
   "cell_type": "code",
   "execution_count": 57,
   "metadata": {},
   "outputs": [],
   "source": [
    "# If the __repr__() is defined but the __str__() is not, then __str__==__repr__\n",
    "\n",
    "class Bike:\n",
    "    def __init__(self, color, bike_type):\n",
    "        self.color = color\n",
    "        self.bike_type = bike_type\n",
    "        \n",
    "    def __repr__(self):\n",
    "        return f\"<Bike|{self.bike_type}>\"\n",
    "    \n",
    "    \n",
    "my_bike = Bike('blue', 'Mountain Bike')\n",
    "your_bike = Bike('red', 'Road Bike')"
   ]
  },
  {
   "cell_type": "code",
   "execution_count": 58,
   "metadata": {},
   "outputs": [
    {
     "data": {
      "text/plain": [
       "<Bike|Mountain Bike>"
      ]
     },
     "execution_count": 58,
     "metadata": {},
     "output_type": "execute_result"
    }
   ],
   "source": [
    " my_bike"
   ]
  },
  {
   "cell_type": "code",
   "execution_count": 59,
   "metadata": {},
   "outputs": [
    {
     "name": "stdout",
     "output_type": "stream",
     "text": [
      "<Bike|Mountain Bike>\n"
     ]
    }
   ],
   "source": [
    "print(my_bike)"
   ]
  },
  {
   "cell_type": "code",
   "execution_count": 60,
   "metadata": {},
   "outputs": [],
   "source": [
    "# The opposite is not true! if __str__ but no __repr__, __repr__ != __str__\n",
    "\n",
    "class Bike:\n",
    "    def __init__(self, color, bike_type):\n",
    "        self.color = color\n",
    "        self.bike_type = bike_type\n",
    "        \n",
    "    def __str__(self):\n",
    "        return f\"{self.color} {self.bike_type}\"\n",
    "    \n",
    "    \n",
    "my_bike = Bike('blue', 'Mountain Bike')\n",
    "your_bike = Bike('red', 'Road Bike')\n"
   ]
  },
  {
   "cell_type": "code",
   "execution_count": 62,
   "metadata": {},
   "outputs": [
    {
     "name": "stdout",
     "output_type": "stream",
     "text": [
      "blue Mountain Bike\n"
     ]
    },
    {
     "data": {
      "text/plain": [
       "<__main__.Bike at 0x137db048d00>"
      ]
     },
     "execution_count": 62,
     "metadata": {},
     "output_type": "execute_result"
    }
   ],
   "source": [
    "print(my_bike)\n",
    "my_bike"
   ]
  },
  {
   "cell_type": "code",
   "execution_count": 63,
   "metadata": {},
   "outputs": [
    {
     "name": "stdout",
     "output_type": "stream",
     "text": [
      "red Road Bike\n"
     ]
    },
    {
     "data": {
      "text/plain": [
       "<__main__.Bike at 0x137db049900>"
      ]
     },
     "execution_count": 63,
     "metadata": {},
     "output_type": "execute_result"
    }
   ],
   "source": [
    "print(your_bike)\n",
    "your_bike"
   ]
  },
  {
   "cell_type": "markdown",
   "metadata": {},
   "source": [
    "#### \\__lt\\__(), \\__lte\\__(), \\__eq\\__(), etc"
   ]
  },
  {
   "cell_type": "code",
   "execution_count": 109,
   "metadata": {},
   "outputs": [],
   "source": [
    "class Product:\n",
    "    def __init__(self, name, price, quantity):\n",
    "        self.name = name\n",
    "        self.price = price\n",
    "        self.quantity = quantity\n",
    "        \n",
    "    def __str__(self):\n",
    "        return f\"{self.name}: ${self.price:.2f} x {self.quantity}\"\n",
    "    \n",
    "    def __repr__(self):\n",
    "        return f\"<Product|{self.name}>\"\n",
    "    \n",
    "    # Method that will be called when the > or < operator is used\n",
    "    def __lt__(self, other_prod):\n",
    "        if not isinstance(other_prod, Product):\n",
    "            raise TypeError(f\"Can only compare Product to other Product (not {type(other_prod)})\")\n",
    "        else:\n",
    "            own_total = self.price * self.quantity\n",
    "            other_total = other_prod.price * other_prod.quantity\n",
    "            return own_total < other_total\n",
    "        \n",
    "    # Method that is called when the == operator is used\n",
    "    def __eq__(self, other_prod):\n",
    "        if not isinstance(other_prod, Product):\n",
    "            raise TypeError(f\"Can only compare Product to other Product (not {type(other_prod)})\")\n",
    "        else:\n",
    "            own_total = self.price * self.quantity\n",
    "            other_total = other_prod.price * other_prod.quantity\n",
    "            return own_total == other_total\n",
    "        \n",
    "    # Method that is called with the + operator is used\n",
    "    def __add__(self, other_prod):\n",
    "        if not isinstance(other_prod, Product):\n",
    "            raise TypeError(f\"Can only add Product to other Product (not {type(other_prod)})\")\n",
    "        else:\n",
    "            own_total = self.price * self.quantity\n",
    "            other_total = other_prod.price * other_prod.quantity\n",
    "            return own_total + other_total\n",
    "    \n",
    "    \n",
    "    \n",
    "product1 = Product('Apple', 1.00, 5)\n",
    "product2 = Product('Banana', .55, 10)\n",
    "product3 = Product('Peach', 1.25, 4)"
   ]
  },
  {
   "cell_type": "code",
   "execution_count": 110,
   "metadata": {},
   "outputs": [
    {
     "name": "stdout",
     "output_type": "stream",
     "text": [
      "Apple: $1.00 x 5\n",
      "Banana: $0.55 x 10\n",
      "Peach: $1.25 x 4\n"
     ]
    },
    {
     "data": {
      "text/plain": [
       "<Product|Apple>"
      ]
     },
     "execution_count": 110,
     "metadata": {},
     "output_type": "execute_result"
    }
   ],
   "source": [
    "print(product1)\n",
    "print(product2)\n",
    "print(product3)\n",
    "product1"
   ]
  },
  {
   "cell_type": "code",
   "execution_count": 111,
   "metadata": {
    "scrolled": true
   },
   "outputs": [
    {
     "data": {
      "text/plain": [
       "False"
      ]
     },
     "execution_count": 111,
     "metadata": {},
     "output_type": "execute_result"
    }
   ],
   "source": [
    "product1 > product2"
   ]
  },
  {
   "cell_type": "code",
   "execution_count": 112,
   "metadata": {},
   "outputs": [
    {
     "data": {
      "text/plain": [
       "True"
      ]
     },
     "execution_count": 112,
     "metadata": {},
     "output_type": "execute_result"
    }
   ],
   "source": [
    "product3 < product2"
   ]
  },
  {
   "cell_type": "code",
   "execution_count": 113,
   "metadata": {
    "scrolled": true
   },
   "outputs": [
    {
     "data": {
      "text/plain": [
       "True"
      ]
     },
     "execution_count": 113,
     "metadata": {},
     "output_type": "execute_result"
    }
   ],
   "source": [
    "product1 == product3"
   ]
  },
  {
   "cell_type": "code",
   "execution_count": 114,
   "metadata": {},
   "outputs": [
    {
     "data": {
      "text/plain": [
       "True"
      ]
     },
     "execution_count": 114,
     "metadata": {},
     "output_type": "execute_result"
    }
   ],
   "source": [
    "product1.__eq__(product3)"
   ]
  },
  {
   "cell_type": "code",
   "execution_count": 115,
   "metadata": {},
   "outputs": [
    {
     "data": {
      "text/plain": [
       "10.5"
      ]
     },
     "execution_count": 115,
     "metadata": {},
     "output_type": "execute_result"
    }
   ],
   "source": [
    "product1 + product2"
   ]
  },
  {
   "cell_type": "code",
   "execution_count": 116,
   "metadata": {},
   "outputs": [
    {
     "data": {
      "text/plain": [
       "10.5"
      ]
     },
     "execution_count": 116,
     "metadata": {},
     "output_type": "execute_result"
    }
   ],
   "source": [
    "product2 + product3"
   ]
  },
  {
   "cell_type": "code",
   "execution_count": 119,
   "metadata": {},
   "outputs": [
    {
     "ename": "TypeError",
     "evalue": "unsupported operand type(s) for +: 'float' and 'Product'",
     "output_type": "error",
     "traceback": [
      "\u001b[1;31m---------------------------------------------------------------------------\u001b[0m",
      "\u001b[1;31mTypeError\u001b[0m                                 Traceback (most recent call last)",
      "Cell \u001b[1;32mIn[119], line 1\u001b[0m\n\u001b[1;32m----> 1\u001b[0m \u001b[43mproduct1\u001b[49m\u001b[43m \u001b[49m\u001b[38;5;241;43m+\u001b[39;49m\u001b[43m \u001b[49m\u001b[43mproduct2\u001b[49m\u001b[43m \u001b[49m\u001b[38;5;241;43m+\u001b[39;49m\u001b[43m \u001b[49m\u001b[43mproduct3\u001b[49m\n",
      "\u001b[1;31mTypeError\u001b[0m: unsupported operand type(s) for +: 'float' and 'Product'"
     ]
    }
   ],
   "source": [
    "product1 + product2 + product3"
   ]
  },
  {
   "cell_type": "code",
   "execution_count": 127,
   "metadata": {},
   "outputs": [],
   "source": [
    "class Measure:\n",
    "    def __init__(self, feet, inches):\n",
    "        self.feet = feet\n",
    "        self.inches = inches\n",
    "        \n",
    "    def __str__(self):\n",
    "        return f\"{self.feet} Feet {self.inches} Inches\"\n",
    "    \n",
    "    def __repr__(self):\n",
    "        return f\"<Measure|{self.feet}'{self.inches}>\"\n",
    "    \n",
    "    def __add__(self, other_measure):\n",
    "        new_feet = self.feet + other_measure.feet\n",
    "        new_inches = self.inches + other_measure.inches\n",
    "        while new_inches >= 12:\n",
    "            new_feet += 1\n",
    "            new_inches -= 12\n",
    "        return Measure(new_feet, new_inches)\n",
    "    \n",
    "\n",
    "m1 = Measure(10, 3)\n",
    "m2 = Measure(12, 5)\n",
    "m3 = Measure(4, 6)\n",
    "m4 = Measure(6, 8)"
   ]
  },
  {
   "cell_type": "code",
   "execution_count": 128,
   "metadata": {},
   "outputs": [
    {
     "name": "stdout",
     "output_type": "stream",
     "text": [
      "22 Feet 8 Inches\n"
     ]
    },
    {
     "data": {
      "text/plain": [
       "<Measure|22'8>"
      ]
     },
     "execution_count": 128,
     "metadata": {},
     "output_type": "execute_result"
    }
   ],
   "source": [
    "added = m1 + m2\n",
    "print(added)\n",
    "added"
   ]
  },
  {
   "cell_type": "code",
   "execution_count": 130,
   "metadata": {},
   "outputs": [
    {
     "name": "stdout",
     "output_type": "stream",
     "text": [
      "33 Feet 10 Inches\n"
     ]
    }
   ],
   "source": [
    "total = m1 + m2 + m3 + m4\n",
    "print(total)"
   ]
  },
  {
   "cell_type": "code",
   "execution_count": 142,
   "metadata": {},
   "outputs": [
    {
     "name": "stdout",
     "output_type": "stream",
     "text": [
      "Apple has been added to your card\n",
      "Banana has been added to your card\n",
      "Pear has been added to your card\n"
     ]
    }
   ],
   "source": [
    "# __contains__ is used with the in keyword\n",
    "\n",
    "class Cart:\n",
    "    def __init__(self):\n",
    "        self.cart = []\n",
    "        \n",
    "    def add_to_cart(self, item):\n",
    "        self.cart.append(item)\n",
    "        print(f\"{item} has been added to your card\")\n",
    "        \n",
    "    def __contains__(self, item_name):\n",
    "        for item in self.cart:\n",
    "            if item.name == item_name:\n",
    "                return True\n",
    "        return False\n",
    "        \n",
    "class Item:\n",
    "    def __init__(self, name, price):\n",
    "        self.name = name\n",
    "        self.price = price\n",
    "        \n",
    "    def __str__(self):\n",
    "        return f\"{self.name.title()}\"\n",
    "    \n",
    "    \n",
    "my_cart = Cart()\n",
    "\n",
    "item1 = Item('Apple', 1.50)\n",
    "item2 = Item('Banana', .55)\n",
    "item3 = Item('Pear', 2.34)\n",
    "item4 = Item('Peach', 1.99)\n",
    "\n",
    "my_cart.add_to_cart(item1)\n",
    "my_cart.add_to_cart(item2)\n",
    "my_cart.add_to_cart(item3)"
   ]
  },
  {
   "cell_type": "code",
   "execution_count": 143,
   "metadata": {},
   "outputs": [
    {
     "data": {
      "text/plain": [
       "True"
      ]
     },
     "execution_count": 143,
     "metadata": {},
     "output_type": "execute_result"
    }
   ],
   "source": [
    "'Apple' in my_cart"
   ]
  },
  {
   "cell_type": "code",
   "execution_count": 144,
   "metadata": {},
   "outputs": [
    {
     "data": {
      "text/plain": [
       "False"
      ]
     },
     "execution_count": 144,
     "metadata": {},
     "output_type": "execute_result"
    }
   ],
   "source": [
    "'Peach' in my_cart"
   ]
  },
  {
   "cell_type": "markdown",
   "metadata": {},
   "source": [
    "#### In-class Exercise 1"
   ]
  },
  {
   "cell_type": "code",
   "execution_count": 153,
   "metadata": {},
   "outputs": [
    {
     "name": "stdout",
     "output_type": "stream",
     "text": [
      "Leo the Lion\n",
      "Buddy the Dog\n"
     ]
    }
   ],
   "source": [
    "# Create a class Animal that displays the name and species when printed\n",
    "class Animal:\n",
    "    kingdom = 'Animal'\n",
    "    \n",
    "    def __init__(self, name, species):\n",
    "        self.name = name\n",
    "        self.species = species\n",
    "        \n",
    "    def __str__(self):\n",
    "        return f\"{self.name} the {self.species}\"\n",
    "\n",
    "    \n",
    "leo = Animal('Leo', 'Lion')\n",
    "buddy = Animal('Buddy', 'Dog')\n",
    "\n",
    "print(leo) # Leo the Lion\n",
    "\n",
    "print(buddy) # Buddy the Dog"
   ]
  },
  {
   "cell_type": "code",
   "execution_count": 154,
   "metadata": {},
   "outputs": [
    {
     "name": "stdout",
     "output_type": "stream",
     "text": [
      "Help on class Animal in module __main__:\n",
      "\n",
      "class Animal(builtins.object)\n",
      " |  Animal(name, species)\n",
      " |  \n",
      " |  Methods defined here:\n",
      " |  \n",
      " |  __init__(self, name, species)\n",
      " |      Initialize self.  See help(type(self)) for accurate signature.\n",
      " |  \n",
      " |  __str__(self)\n",
      " |      Return str(self).\n",
      " |  \n",
      " |  ----------------------------------------------------------------------\n",
      " |  Data descriptors defined here:\n",
      " |  \n",
      " |  __dict__\n",
      " |      dictionary for instance variables (if defined)\n",
      " |  \n",
      " |  __weakref__\n",
      " |      list of weak references to the object (if defined)\n",
      " |  \n",
      " |  ----------------------------------------------------------------------\n",
      " |  Data and other attributes defined here:\n",
      " |  \n",
      " |  kingdom = 'Animal'\n",
      "\n"
     ]
    }
   ],
   "source": [
    "help(Animal)"
   ]
  },
  {
   "cell_type": "markdown",
   "metadata": {},
   "source": [
    "## Inheritance <br>\n",
    "<p>You can create a child-parent relationship between two classes by using inheritance. What this allows you to do is have overriding methods, but also inherit traits from the parent class. Think of it as an actual parent and child, the child will inherit the parent's genes, as will the classes in OOP</p>"
   ]
  },
  {
   "cell_type": "markdown",
   "metadata": {},
   "source": [
    "##### Syntax for Inheriting from a Parent Class"
   ]
  },
  {
   "cell_type": "code",
   "execution_count": 157,
   "metadata": {},
   "outputs": [
    {
     "name": "stdout",
     "output_type": "stream",
     "text": [
      "Length: 10 x Width: 15\n",
      "150\n",
      "My rectangle has 4 sides\n",
      "--------------------------------------------------\n",
      "Length: 10 x Width: 10\n",
      "100\n",
      "My square has 4 sides\n"
     ]
    }
   ],
   "source": [
    "# Syntax: class Child(Parent):\n",
    "\n",
    "class Rectangle: # Parent Class\n",
    "    sides = 4 # Class Attribute\n",
    "    \n",
    "    def __init__(self, length, width):\n",
    "        self.length = length\n",
    "        self.width = width\n",
    "        \n",
    "    def __str__(self):\n",
    "        return f\"Length: {self.length} x Width: {self.width}\"\n",
    "    \n",
    "    def area(self):\n",
    "        return self.length * self.width\n",
    "    \n",
    "    \n",
    "class Square(Rectangle): # Child Class (Parent class)\n",
    "    pass\n",
    "    \n",
    "    \n",
    "my_rectangle = Rectangle(10, 15)\n",
    "print(my_rectangle)\n",
    "print(my_rectangle.area())\n",
    "print(f\"My rectangle has {my_rectangle.sides} sides\")\n",
    "\n",
    "print('-'*50)\n",
    "\n",
    "my_square = Square(10, 10)\n",
    "print(my_square)\n",
    "print(my_square.area())\n",
    "print(f\"My square has {my_square.sides} sides\")"
   ]
  },
  {
   "cell_type": "code",
   "execution_count": 158,
   "metadata": {
    "scrolled": false
   },
   "outputs": [
    {
     "name": "stdout",
     "output_type": "stream",
     "text": [
      "Help on class Square in module __main__:\n",
      "\n",
      "class Square(Rectangle)\n",
      " |  Square(length, width)\n",
      " |  \n",
      " |  Method resolution order:\n",
      " |      Square\n",
      " |      Rectangle\n",
      " |      builtins.object\n",
      " |  \n",
      " |  Methods inherited from Rectangle:\n",
      " |  \n",
      " |  __init__(self, length, width)\n",
      " |      Initialize self.  See help(type(self)) for accurate signature.\n",
      " |  \n",
      " |  __str__(self)\n",
      " |      Return str(self).\n",
      " |  \n",
      " |  area(self)\n",
      " |  \n",
      " |  ----------------------------------------------------------------------\n",
      " |  Data descriptors inherited from Rectangle:\n",
      " |  \n",
      " |  __dict__\n",
      " |      dictionary for instance variables (if defined)\n",
      " |  \n",
      " |  __weakref__\n",
      " |      list of weak references to the object (if defined)\n",
      " |  \n",
      " |  ----------------------------------------------------------------------\n",
      " |  Data and other attributes inherited from Rectangle:\n",
      " |  \n",
      " |  sides = 4\n",
      "\n"
     ]
    }
   ],
   "source": [
    "help(Square)"
   ]
  },
  {
   "cell_type": "markdown",
   "metadata": {},
   "source": [
    "##### The \\__init\\__() Method for a Child Class - super()"
   ]
  },
  {
   "cell_type": "code",
   "execution_count": 189,
   "metadata": {
    "scrolled": false
   },
   "outputs": [
    {
     "name": "stdout",
     "output_type": "stream",
     "text": [
      "This is the Rectangle's perimeter method\n",
      "Length: 10 x Width: 15 Perimeter: 50\n",
      "This is the Rectangle's area method\n",
      "150\n",
      "My rectangle has 4 sides\n",
      "The border color is black\n",
      "--------------------------------------------------\n",
      "This is the Rectangle's perimeter method\n",
      "Length: 10 x Width: 10 Perimeter: 40\n",
      "This is the Rectangle's area method\n",
      "100\n",
      "My square has 4 sides\n",
      "The border color is black\n",
      "This is true\n"
     ]
    }
   ],
   "source": [
    "class Rectangle: # Parent Class\n",
    "    sides = 4 # Class Attribute\n",
    "    \n",
    "    def __init__(self, length, width):\n",
    "        self.length = length\n",
    "        self.width = width\n",
    "        self.border_color = 'black'\n",
    "        \n",
    "    def __str__(self):\n",
    "        return f\"Length: {self.length} x Width: {self.width} Perimeter: {self.perimeter()}\"\n",
    "    \n",
    "    def area(self):\n",
    "        print(\"This is the Rectangle's area method\")\n",
    "        return self.length * self.width\n",
    "    \n",
    "    def perimeter(self):\n",
    "        print(\"This is the Rectangle's perimeter method\")\n",
    "        return 2 * self.length + 2 * self.width\n",
    "    \n",
    "    \n",
    "class Square(Rectangle): # Child Class (Parent class)\n",
    "    def __init__(self, side):\n",
    "        super().__init__(side, side)\n",
    "        self.all_sides_equal = True\n",
    "        \n",
    "    \n",
    "    \n",
    "my_rectangle = Rectangle(10, 15)\n",
    "print(my_rectangle)\n",
    "print(my_rectangle.area())\n",
    "print(f\"My rectangle has {my_rectangle.sides} sides\")\n",
    "print(f\"The border color is {my_rectangle.border_color}\")\n",
    "# if my_rectangle.all_sides_equal:\n",
    "#     print('This is true')\n",
    "\n",
    "print('-'*50)\n",
    "\n",
    "my_square = Square(10)\n",
    "print(my_square)\n",
    "print(my_square.area())\n",
    "print(f\"My square has {my_square.sides} sides\")\n",
    "print(f\"The border color is {my_square.border_color}\")\n",
    "if my_square.all_sides_equal:\n",
    "    print('This is true')"
   ]
  },
  {
   "cell_type": "code",
   "execution_count": 190,
   "metadata": {
    "scrolled": true
   },
   "outputs": [
    {
     "name": "stdout",
     "output_type": "stream",
     "text": [
      "This is the Rectangle's area method\n"
     ]
    },
    {
     "data": {
      "text/plain": [
       "150"
      ]
     },
     "execution_count": 190,
     "metadata": {},
     "output_type": "execute_result"
    }
   ],
   "source": [
    "my_rectangle.area()"
   ]
  },
  {
   "cell_type": "code",
   "execution_count": 193,
   "metadata": {},
   "outputs": [
    {
     "name": "stdout",
     "output_type": "stream",
     "text": [
      "This is the Rectangle's area method\n"
     ]
    },
    {
     "data": {
      "text/plain": [
       "100"
      ]
     },
     "execution_count": 193,
     "metadata": {},
     "output_type": "execute_result"
    }
   ],
   "source": [
    "my_square.area()"
   ]
  },
  {
   "cell_type": "code",
   "execution_count": 194,
   "metadata": {},
   "outputs": [
    {
     "name": "stdout",
     "output_type": "stream",
     "text": [
      "Help on class Square in module __main__:\n",
      "\n",
      "class Square(Rectangle)\n",
      " |  Square(side)\n",
      " |  \n",
      " |  Method resolution order:\n",
      " |      Square\n",
      " |      Rectangle\n",
      " |      builtins.object\n",
      " |  \n",
      " |  Methods defined here:\n",
      " |  \n",
      " |  __init__(self, side)\n",
      " |      Initialize self.  See help(type(self)) for accurate signature.\n",
      " |  \n",
      " |  ----------------------------------------------------------------------\n",
      " |  Methods inherited from Rectangle:\n",
      " |  \n",
      " |  __str__(self)\n",
      " |      Return str(self).\n",
      " |  \n",
      " |  area(self)\n",
      " |  \n",
      " |  perimeter(self)\n",
      " |  \n",
      " |  ----------------------------------------------------------------------\n",
      " |  Data descriptors inherited from Rectangle:\n",
      " |  \n",
      " |  __dict__\n",
      " |      dictionary for instance variables (if defined)\n",
      " |  \n",
      " |  __weakref__\n",
      " |      list of weak references to the object (if defined)\n",
      " |  \n",
      " |  ----------------------------------------------------------------------\n",
      " |  Data and other attributes inherited from Rectangle:\n",
      " |  \n",
      " |  sides = 4\n",
      "\n"
     ]
    }
   ],
   "source": [
    "help(Square)"
   ]
  },
  {
   "cell_type": "code",
   "execution_count": 201,
   "metadata": {
    "scrolled": true
   },
   "outputs": [
    {
     "name": "stdout",
     "output_type": "stream",
     "text": [
      "This is the Triangle's perimeter method\n",
      "Length: 10 x Width: 5 Perimeter: 30\n"
     ]
    }
   ],
   "source": [
    "class Triangle(Rectangle):\n",
    "    sides = 3  # Overriding the class attribute\n",
    "    \n",
    "    def __init__(self, base, height):\n",
    "        super().__init__(base, height)\n",
    "        \n",
    "    # Completely override Rectangle's perimeter method\n",
    "    def perimeter(self):\n",
    "        print(\"This is the Triangle's perimeter method\")\n",
    "        return self.length * 3\n",
    "    \n",
    "    # Override the Rectangle's area method, but still use the method in new function\n",
    "    def area(self):\n",
    "        print(\"This is the Triangle's area method\")\n",
    "        rectangle_area = super().area()\n",
    "        print(f\"The return value from the rectangle is {rectangle_area}\")\n",
    "        return rectangle_area / 2\n",
    "        \n",
    "        \n",
    "my_triangle = Triangle(10, 5)\n",
    "print(my_triangle)"
   ]
  },
  {
   "cell_type": "code",
   "execution_count": 202,
   "metadata": {},
   "outputs": [
    {
     "name": "stdout",
     "output_type": "stream",
     "text": [
      "This is the Triangle's area method\n",
      "This is the Rectangle's area method\n",
      "The return value from the rectangle is 50\n"
     ]
    },
    {
     "data": {
      "text/plain": [
       "25.0"
      ]
     },
     "execution_count": 202,
     "metadata": {},
     "output_type": "execute_result"
    }
   ],
   "source": [
    "my_triangle.area()"
   ]
  },
  {
   "cell_type": "code",
   "execution_count": 207,
   "metadata": {},
   "outputs": [
    {
     "name": "stdout",
     "output_type": "stream",
     "text": [
      "Congrats on purchasing Frankenstein by Mary Shelley for $9.99\n",
      "Congrats on purchasing Tale of Two Cities by Charles Dickens for $18.45\n"
     ]
    }
   ],
   "source": [
    "# Children Classes will inherit from the Parent, but the Parent class inherits NOTHING from the child\n",
    "\n",
    "class Book:\n",
    "    def __init__(self, title, author, num_of_pages, price):\n",
    "        self.title = title\n",
    "        self.author = author\n",
    "        self.num_of_pages = num_of_pages\n",
    "        self.price = price\n",
    "        self.current_page = 0\n",
    "        print(f\"Congrats on purchasing {title} by {author} for ${price:.2f}\")\n",
    "        \n",
    "    def read(self, num_pages):\n",
    "        self.current_page += num_pages\n",
    "        if self.current_page >= self.num_of_pages:\n",
    "            print(f\"Congrats on finishing {self.title}\")\n",
    "            self.current_page = 0\n",
    "        else:\n",
    "            print(f\"You are currently on page {self.current_page} of {self.title}. There are {self.num_of_pages - self.current_page} pages left\")\n",
    "    \n",
    "    def __str__(self):\n",
    "        return f\"{self.title} by {self.author}\"\n",
    "            \n",
    "class Ebook(Book):\n",
    "    \n",
    "    def email(self, recipient):\n",
    "        print(f\"Dear {recipient},\\n\\tPlease enjoy this digital copy of {self}\")\n",
    "        \n",
    "        \n",
    "        \n",
    "\n",
    "my_first_ebook = Ebook('Frankenstein', 'Mary Shelley', 345, 9.99)\n",
    "my_first_hardcover = Book('Tale of Two Cities', 'Charles Dickens', 543, 18.45)"
   ]
  },
  {
   "cell_type": "code",
   "execution_count": 208,
   "metadata": {},
   "outputs": [
    {
     "name": "stdout",
     "output_type": "stream",
     "text": [
      "You are currently on page 100 of Frankenstein. There are 245 pages left\n"
     ]
    }
   ],
   "source": [
    "my_first_ebook.read(100)"
   ]
  },
  {
   "cell_type": "code",
   "execution_count": 209,
   "metadata": {},
   "outputs": [
    {
     "name": "stdout",
     "output_type": "stream",
     "text": [
      "You are currently on page 200 of Tale of Two Cities. There are 343 pages left\n"
     ]
    }
   ],
   "source": [
    "my_first_hardcover.read(200)"
   ]
  },
  {
   "cell_type": "code",
   "execution_count": 210,
   "metadata": {},
   "outputs": [
    {
     "name": "stdout",
     "output_type": "stream",
     "text": [
      "Dear Sarah,\n",
      "\tPlease enjoy this digital copy of Frankenstein by Mary Shelley\n"
     ]
    }
   ],
   "source": [
    "my_first_ebook.email('Sarah')"
   ]
  },
  {
   "cell_type": "code",
   "execution_count": 212,
   "metadata": {},
   "outputs": [],
   "source": [
    "# my_first_hardcover.email('Sam') # AttributeError: 'Book' object has no attribute 'email'"
   ]
  },
  {
   "cell_type": "markdown",
   "metadata": {},
   "source": [
    "#### In-class Exercise 2"
   ]
  },
  {
   "cell_type": "markdown",
   "metadata": {},
   "source": [
    "Create a Car class that has a drive and fill up method, and then create a Ford class that inherits from the car class."
   ]
  },
  {
   "cell_type": "code",
   "execution_count": 219,
   "metadata": {},
   "outputs": [
    {
     "name": "stdout",
     "output_type": "stream",
     "text": [
      "white Ford Bronco\n",
      "The white Ford Bronco is driving\n",
      "Filling up the white Ford Bronco\n"
     ]
    }
   ],
   "source": [
    "# Create a Parent Car Class that has color, make, and model attribute and drive and fill up methods\n",
    "class Car:\n",
    "    def __init__(self, color, make, model):\n",
    "        self.color = color\n",
    "        self.make = make\n",
    "        self.model = model\n",
    "        \n",
    "    def __str__(self):\n",
    "        return f\"{self.color} {self.make} {self.model}\"\n",
    "    \n",
    "    def drive(self):\n",
    "        print(f\"The {self} is driving\")\n",
    "        \n",
    "    def fill_up(self):\n",
    "        print(f\"Filling up the {self}\")\n",
    "\n",
    "    \n",
    "# car = Car('red', 'Ford', 'Escape')\n",
    "# print(car)\n",
    "# car.drive()\n",
    "# car.fill_up()\n",
    "\n",
    "\n",
    "# Create a Ford Class that will inherit from the Car class. \n",
    "# * Will you need to override or user super() ??? *\n",
    "class Ford(Car):\n",
    "    def __init__(self, color, model):\n",
    "        super().__init__(color, 'Ford', model)\n",
    "\n",
    "# Create an instance of the Ford Class\n",
    "my_car = Ford('white', 'Bronco')\n",
    "print(my_car)\n",
    "\n",
    "# Call the drive and/or fill up methods from that instance\n",
    "my_car.drive()\n",
    "my_car.fill_up()"
   ]
  },
  {
   "cell_type": "code",
   "execution_count": null,
   "metadata": {},
   "outputs": [],
   "source": []
  },
  {
   "cell_type": "markdown",
   "metadata": {},
   "source": [
    "## Modules"
   ]
  },
  {
   "cell_type": "markdown",
   "metadata": {},
   "source": [
    "##### Importing Entire Modules"
   ]
  },
  {
   "cell_type": "code",
   "execution_count": 224,
   "metadata": {},
   "outputs": [
    {
     "name": "stdout",
     "output_type": "stream",
     "text": [
      "<module 'math' (built-in)>\n",
      "120\n",
      "10.0\n",
      "3.141592653589793\n"
     ]
    }
   ],
   "source": [
    "# import name_of_module\n",
    "import math\n",
    "\n",
    "print(math)\n",
    "\n",
    "# Syntax for accessing functions, classes, and variables:\n",
    "# module_name.var_name\n",
    "print(math.factorial(5))\n",
    "print(math.sqrt(100))\n",
    "\n",
    "print(math.pi)"
   ]
  },
  {
   "cell_type": "code",
   "execution_count": 226,
   "metadata": {},
   "outputs": [
    {
     "name": "stdout",
     "output_type": "stream",
     "text": [
      "31.41592653589793\n"
     ]
    }
   ],
   "source": [
    "radius = 5\n",
    "\n",
    "circumference = 2 * math.pi * radius\n",
    "print(circumference)"
   ]
  },
  {
   "cell_type": "code",
   "execution_count": 228,
   "metadata": {},
   "outputs": [
    {
     "data": {
      "text/plain": [
       "3628800"
      ]
     },
     "execution_count": 228,
     "metadata": {},
     "output_type": "execute_result"
    }
   ],
   "source": [
    "math.factorial(10)"
   ]
  },
  {
   "cell_type": "markdown",
   "metadata": {},
   "source": [
    "##### Importing Methods Only"
   ]
  },
  {
   "cell_type": "code",
   "execution_count": 231,
   "metadata": {},
   "outputs": [
    {
     "name": "stdout",
     "output_type": "stream",
     "text": [
      "<function mean at 0x00000137DD862A70>\n",
      "<function mode at 0x00000137DD862EF0>\n"
     ]
    },
    {
     "ename": "NameError",
     "evalue": "name 'statistics' is not defined",
     "output_type": "error",
     "traceback": [
      "\u001b[1;31m---------------------------------------------------------------------------\u001b[0m",
      "\u001b[1;31mNameError\u001b[0m                                 Traceback (most recent call last)",
      "Cell \u001b[1;32mIn[231], line 7\u001b[0m\n\u001b[0;32m      4\u001b[0m \u001b[38;5;28mprint\u001b[39m(mean)\n\u001b[0;32m      5\u001b[0m \u001b[38;5;28mprint\u001b[39m(mode)\n\u001b[1;32m----> 7\u001b[0m \u001b[38;5;28mprint\u001b[39m(\u001b[43mstatistics\u001b[49m)\n",
      "\u001b[1;31mNameError\u001b[0m: name 'statistics' is not defined"
     ]
    }
   ],
   "source": [
    "# from module_name import class, function, constant, etc.\n",
    "from statistics import mean, mode\n",
    "\n",
    "print(mean)\n",
    "print(mode)\n",
    "\n",
    "print(statistics)"
   ]
  },
  {
   "cell_type": "code",
   "execution_count": 233,
   "metadata": {},
   "outputs": [
    {
     "name": "stdout",
     "output_type": "stream",
     "text": [
      "93.6\n",
      "99\n"
     ]
    }
   ],
   "source": [
    "my_scores = [99, 98, 92, 93, 96 ,89, 88, 92, 91, 90, 86, 99, 98, 99, 94]\n",
    "\n",
    "print(mean(my_scores))\n",
    "print(mode(my_scores))"
   ]
  },
  {
   "cell_type": "code",
   "execution_count": 236,
   "metadata": {},
   "outputs": [
    {
     "name": "stdout",
     "output_type": "stream",
     "text": [
      "a\n"
     ]
    }
   ],
   "source": [
    "my_letters = ['a', 'a', 'b', 'c', 'a', 'c']\n",
    "\n",
    "print(mode(my_letters))"
   ]
  },
  {
   "cell_type": "markdown",
   "metadata": {},
   "source": [
    "##### Using the 'as' Keyword"
   ]
  },
  {
   "cell_type": "code",
   "execution_count": 244,
   "metadata": {},
   "outputs": [
    {
     "name": "stdout",
     "output_type": "stream",
     "text": [
      "<bound method Random.randint of <random.Random object at 0x00000137D6FB98E0>>\n",
      "13\n"
     ]
    }
   ],
   "source": [
    "# import module as new_name\n",
    "# from module import function as f\n",
    "from random import randint as ri\n",
    "\n",
    "print(ri)\n",
    "print(ri(1,100))"
   ]
  },
  {
   "cell_type": "code",
   "execution_count": 245,
   "metadata": {},
   "outputs": [
    {
     "name": "stdout",
     "output_type": "stream",
     "text": [
      "[19, 2, 18, 2, 4, 16, 3, 1, 3, 7]\n"
     ]
    }
   ],
   "source": [
    "randoms = [ri(1, 20) for _ in range(10)] # Give me 10 random numbers between 1 and 20\n",
    "print(randoms)"
   ]
  },
  {
   "cell_type": "code",
   "execution_count": 248,
   "metadata": {},
   "outputs": [
    {
     "name": "stdout",
     "output_type": "stream",
     "text": [
      "<module 'collections' from 'C:\\\\Users\\\\bstan\\\\anaconda3\\\\lib\\\\collections\\\\__init__.py'>\n",
      "<class 'collections.Counter'>\n",
      "Counter({'a': 3, 'c': 2, 'b': 1})\n"
     ]
    }
   ],
   "source": [
    "import collections as col\n",
    "\n",
    "print(col)\n",
    "print(col.Counter)\n",
    "\n",
    "\n",
    "letter_count = col.Counter(my_letters)\n",
    "print(letter_count)"
   ]
  },
  {
   "cell_type": "code",
   "execution_count": null,
   "metadata": {},
   "outputs": [],
   "source": [
    "# import numpy as np\n",
    "# import pandas as pd\n",
    "# import matplotlib.pyplot as plt\n",
    "\n"
   ]
  },
  {
   "cell_type": "code",
   "execution_count": 249,
   "metadata": {},
   "outputs": [
    {
     "name": "stdout",
     "output_type": "stream",
     "text": [
      "Hello this is the test module file being run!\n"
     ]
    }
   ],
   "source": [
    "# Using VS Code\n",
    "import test_module"
   ]
  },
  {
   "cell_type": "code",
   "execution_count": 250,
   "metadata": {},
   "outputs": [
    {
     "name": "stdout",
     "output_type": "stream",
     "text": [
      "<module 'test_module' from 'C:\\\\Users\\\\bstan\\\\Documents\\\\codingtemple-kekambas-125\\\\week3\\\\day2\\\\test_module.py'>\n"
     ]
    }
   ],
   "source": [
    "print(test_module)"
   ]
  },
  {
   "cell_type": "code",
   "execution_count": 251,
   "metadata": {},
   "outputs": [
    {
     "name": "stdout",
     "output_type": "stream",
     "text": [
      "Hello Brian, how are you doing?\n"
     ]
    }
   ],
   "source": [
    "test_module.greet('brian')"
   ]
  },
  {
   "cell_type": "code",
   "execution_count": 252,
   "metadata": {},
   "outputs": [
    {
     "name": "stdout",
     "output_type": "stream",
     "text": [
      "Goodbye Brian, it was a pleasure seeing you.\n"
     ]
    }
   ],
   "source": [
    "test_module.leave('brian')"
   ]
  },
  {
   "cell_type": "code",
   "execution_count": null,
   "metadata": {},
   "outputs": [],
   "source": []
  },
  {
   "cell_type": "code",
   "execution_count": null,
   "metadata": {},
   "outputs": [],
   "source": []
  },
  {
   "cell_type": "code",
   "execution_count": null,
   "metadata": {},
   "outputs": [],
   "source": []
  },
  {
   "cell_type": "code",
   "execution_count": null,
   "metadata": {},
   "outputs": [],
   "source": []
  }
 ],
 "metadata": {
  "kernelspec": {
   "display_name": "Python 3 (ipykernel)",
   "language": "python",
   "name": "python3"
  },
  "language_info": {
   "codemirror_mode": {
    "name": "ipython",
    "version": 3
   },
   "file_extension": ".py",
   "mimetype": "text/x-python",
   "name": "python",
   "nbconvert_exporter": "python",
   "pygments_lexer": "ipython3",
   "version": "3.10.9"
  }
 },
 "nbformat": 4,
 "nbformat_minor": 2
}
